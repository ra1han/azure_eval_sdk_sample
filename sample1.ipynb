{
 "cells": [
  {
   "cell_type": "markdown",
   "id": "3c21eb19",
   "metadata": {},
   "source": [
    "## Sample 1\n",
    "\n",
    "This notebook demonstrate how to use Azure Eval SDK to locally run evaluations using the built in evaluators."
   ]
  },
  {
   "cell_type": "code",
   "execution_count": null,
   "id": "4b94dad3",
   "metadata": {},
   "outputs": [],
   "source": [
    "import os\n",
    "from dotenv import load_dotenv\n",
    "\n",
    "from azure.ai.evaluation import GroundednessEvaluator\n",
    "from azure.ai.evaluation import evaluate"
   ]
  },
  {
   "cell_type": "code",
   "execution_count": null,
   "id": "583d068c",
   "metadata": {},
   "outputs": [],
   "source": [
    "load_dotenv()\n",
    "\n",
    "model_config = {\n",
    "    \"azure_endpoint\": os.environ.get(\"AZURE_OPENAI_ENDPOINT\"),\n",
    "    \"api_key\": os.environ.get(\"AZURE_OPENAI_API_KEY\"),\n",
    "    \"azure_deployment\": os.environ.get(\"AZURE_OPENAI_DEPLOYMENT\"),\n",
    "    \"api_version\": os.environ.get(\"AZURE_OPENAI_API_VERSION\"),\n",
    "}"
   ]
  },
  {
   "cell_type": "markdown",
   "id": "ba8e7185",
   "metadata": {},
   "source": [
    "### Run evaluation on single record"
   ]
  },
  {
   "cell_type": "code",
   "execution_count": null,
   "id": "0776efb8",
   "metadata": {},
   "outputs": [],
   "source": [
    "groundedness_eval = GroundednessEvaluator(model_config)\n",
    "\n",
    "query_response = dict(\n",
    "    query=\"What is the name of the tallest volcano in the solar system located on Mars?\",\n",
    "    context=\"Mars, often called the Red Planet, is the fourth planet from the Sun in our solar system. It has a thin atmosphere composed mostly of carbon dioxide, with traces of nitrogen and argon. Mars is home to the tallest volcano in the solar system, Olympus Mons, which stands about 22 kilometers high. The planet also has the largest canyon, Valles Marineris, which stretches over 4,000 kilometers. Mars has two small moons, Phobos and Deimos. Scientists are particularly interested in Mars because of its potential to have harbored life in the past. Numerous missions have been sent to explore the planet, including rovers like Curiosity and Perseverance..\",\n",
    "    response=\"Olympus Mons.\"\n",
    ")\n",
    "\n",
    "groundedness_score = groundedness_eval(\n",
    "    **query_response\n",
    ")\n",
    "\n",
    "print(groundedness_score)"
   ]
  },
  {
   "cell_type": "markdown",
   "id": "93e12e62",
   "metadata": {},
   "source": [
    "### Run batch evaluation"
   ]
  },
  {
   "cell_type": "code",
   "execution_count": null,
   "id": "16c2d398",
   "metadata": {},
   "outputs": [],
   "source": [
    "result = evaluate(\n",
    "    data=\"data/qna.jsonl\", \n",
    "    evaluators={\n",
    "        \"groundedness\": groundedness_eval\n",
    "    },\n",
    "    evaluator_config={\n",
    "        \"groundedness\": {\n",
    "            \"column_mapping\": {\n",
    "                \"query\": \"${data.question}\",\n",
    "                \"context\": \"${data.context}\",\n",
    "                \"response\": \"${data.answer}\"\n",
    "            } \n",
    "        }\n",
    "    },\n",
    "    output_path=\"output/batch_eval.json\"\n",
    ")"
   ]
  }
 ],
 "metadata": {
  "kernelspec": {
   "display_name": "evalsdk",
   "language": "python",
   "name": "python3"
  },
  "language_info": {
   "codemirror_mode": {
    "name": "ipython",
    "version": 3
   },
   "file_extension": ".py",
   "mimetype": "text/x-python",
   "name": "python",
   "nbconvert_exporter": "python",
   "pygments_lexer": "ipython3",
   "version": "3.11.11"
  }
 },
 "nbformat": 4,
 "nbformat_minor": 5
}
