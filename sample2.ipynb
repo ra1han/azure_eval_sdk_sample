{
 "cells": [
  {
   "cell_type": "markdown",
   "id": "3c21eb19",
   "metadata": {},
   "source": [
    "# Sample 2\n",
    "\n",
    "This notebook demonstrate how to use Azure Eval SDK to locally run evaluations using the custom evaluators."
   ]
  },
  {
   "cell_type": "code",
   "execution_count": null,
   "id": "4b94dad3",
   "metadata": {},
   "outputs": [],
   "source": [
    "import os\n",
    "from dotenv import load_dotenv\n",
    "\n",
    "from azure.identity import DefaultAzureCredential\n",
    "from azure.ai.projects import AIProjectClient\n",
    "from azure.ai.evaluation import evaluate, RelevanceEvaluator, EvaluatorConfig, AzureAIProject\n",
    "from custom_evaluator.friendliness_evaluator import FriendlinessEvaluator\n",
    "from custom_evaluator.length_evaluator import LengthEvaluator\n"
   ]
  },
  {
   "cell_type": "code",
   "execution_count": null,
   "id": "583d068c",
   "metadata": {},
   "outputs": [],
   "source": [
    "load_dotenv()\n",
    "\n",
    "model_config = {\n",
    "    \"azure_endpoint\": os.environ.get(\"AZURE_OPENAI_ENDPOINT\"),\n",
    "    \"api_key\": os.environ.get(\"AZURE_OPENAI_API_KEY\"),\n",
    "    \"azure_deployment\": os.environ.get(\"AZURE_OPENAI_DEPLOYMENT\"),\n",
    "}"
   ]
  },
  {
   "cell_type": "markdown",
   "id": "107b86e5",
   "metadata": {},
   "source": [
    "### Configure evaluators"
   ]
  },
  {
   "cell_type": "code",
   "execution_count": null,
   "id": "0776efb8",
   "metadata": {},
   "outputs": [],
   "source": [
    "evaluators = {\n",
    "    \"relevance\": RelevanceEvaluator(model_config=model_config),\n",
    "    \"friendliness\": FriendlinessEvaluator(model_config=model_config),\n",
    "    \"length\": LengthEvaluator()\n",
    "}\n",
    "\n",
    "evaluator_config = {\n",
    "    \"relevance\": EvaluatorConfig(\n",
    "        column_mapping={\n",
    "            \"query\": \"${data.question}\",\n",
    "            \"response\": \"${data.answer}\"\n",
    "        }\n",
    "    ),\n",
    "    \"friendliness\": EvaluatorConfig(\n",
    "        column_mapping={\n",
    "            \"response\": \"${data.answer}\"\n",
    "        }\n",
    "    ),\n",
    "    \"length\": EvaluatorConfig(\n",
    "        column_mapping= {\n",
    "            \"response\": \"${data.answer}\"\n",
    "        } \n",
    ")\n",
    "}"
   ]
  },
  {
   "cell_type": "markdown",
   "id": "9639c4ab",
   "metadata": {},
   "source": [
    "### Run evaluation"
   ]
  },
  {
   "cell_type": "code",
   "execution_count": null,
   "id": "16c2d398",
   "metadata": {},
   "outputs": [],
   "source": [
    "results = evaluate(\n",
    "    data=\"data/qna.jsonl\",\n",
    "    evaluators=evaluators,\n",
    "    evaluator_config=evaluator_config,\n",
    "    evaluation_name=\"Local Evaluation Run\",\n",
    "    fail_on_evaluator_errors=True,\n",
    "    output_path=\"output/custom_batch_eval.json\"\n",
    ")\n",
    "\n",
    "print(f\"Results: {results}\")"
   ]
  },
  {
   "cell_type": "markdown",
   "id": "eff9fc3e",
   "metadata": {},
   "source": [
    "### Run evaluation w/ upload results to cloud"
   ]
  },
  {
   "cell_type": "code",
   "execution_count": null,
   "id": "6293dbe3",
   "metadata": {},
   "outputs": [],
   "source": [
    "# optional - to support DefaultAzureCredential()\n",
    "!az login"
   ]
  },
  {
   "cell_type": "code",
   "execution_count": null,
   "id": "60410a7a",
   "metadata": {},
   "outputs": [],
   "source": [
    "project_client = AIProjectClient.from_connection_string(\n",
    "    credential=DefaultAzureCredential(),\n",
    "    conn_str=os.environ[\"AI_FOUNDRY_CONNECTION_STRING\"]\n",
    ")\n",
    "\n",
    "azure_project = AzureAIProject(\n",
    "    subscription_id=project_client.scope[\"subscription_id\"],\n",
    "    resource_group_name=project_client.scope[\"resource_group_name\"],\n",
    "    project_name=project_client.scope[\"project_name\"]\n",
    ")\n",
    "\n",
    "results = evaluate(\n",
    "    data=\"data/qna.jsonl\",\n",
    "    evaluators=evaluators,\n",
    "    evaluator_config=evaluator_config,\n",
    "    azure_ai_project=azure_project,  \n",
    "    evaluation_name=\"Local Evaluation Run\",\n",
    "    fail_on_evaluator_errors=True,\n",
    ")\n",
    "\n",
    "print(f\"Results: {results}\")"
   ]
  }
 ],
 "metadata": {
  "kernelspec": {
   "display_name": "evalsdk",
   "language": "python",
   "name": "python3"
  },
  "language_info": {
   "codemirror_mode": {
    "name": "ipython",
    "version": 3
   },
   "file_extension": ".py",
   "mimetype": "text/x-python",
   "name": "python",
   "nbconvert_exporter": "python",
   "pygments_lexer": "ipython3",
   "version": "3.11.11"
  }
 },
 "nbformat": 4,
 "nbformat_minor": 5
}
